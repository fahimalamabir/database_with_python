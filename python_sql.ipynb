{
 "cells": [
  {
   "cell_type": "markdown",
   "metadata": {},
   "source": [
    "# Using Databases with Python\n",
    "\n",
    "First we need to create a database using SQLite Browser.\n",
    "To create table CREATE TABLE <table name>\n",
    "    \n",
    "CREATE TABLE Users(<br>\n",
    "\tname VARCHAR(50),<br>\n",
    "\temail VARCHAR(50)<br>\n",
    ");<br>\n",
    "    \n",
    "To insert values,<br>\n",
    "    \n",
    "INSERT INTO Users(name,email) VALUES ('Arman','Arman@ubc.ca')<br>\n",
    "\n",
    "Current Table values are :\n",
    "    \n",
    "abir\tabir@gmail.com <br>\n",
    "shazia\tshazia@yahoo.com<br>\n",
    "mahi\tmahi@ubc.ca<br>\n",
    "afra\tafra@uvic.ca<br>\n",
    "Arman\tArman@ubc.ca<br>\n",
    "Alam Baby <br>\n",
    "\n",
    "To delete a user without email, we do the following,\n",
    "    \n",
    "DELETE FROM Users  WHERE (email = ' ')\n",
    "    \n",
    "To Retrieve records from a group of records, We can do the following\n",
    " 1) To get all the records-     SELECT * FROM Users <br>\n",
    " 2) To get a subset of the record-       SELECT * FROM Users WHERE email = 'shazia@yahoo.com' <br>\n",
    " 3) To get reselt ascending or descending order-   SELECT * FROM Users ORDER BY email <br>\n"
   ]
  },
  {
   "cell_type": "code",
   "execution_count": 52,
   "metadata": {},
   "outputs": [
    {
     "name": "stdout",
     "output_type": "stream",
     "text": [
      "Enter file name: mbox.txt\n",
      "cwen@iupui.edu 153\n",
      "zqian@umich.edu 141\n",
      "chmaurer@iupui.edu 104\n",
      "jimeng@umich.edu 90\n",
      "mmmay@indiana.edu 75\n",
      "ian@caret.cam.ac.uk 75\n",
      "rjlowe@iupui.edu 67\n",
      "aaronz@vt.edu 64\n",
      "david.horwitz@uct.ac.za 58\n",
      "dlhaines@umich.edu 50\n"
     ]
    }
   ],
   "source": [
    "import sqlite3\n",
    "\n",
    "conn = sqlite3.connect('emaildb.sqlite') # creates emaildb \n",
    "cur = conn.cursor()\n",
    "\n",
    "cur.execute('DROP TABLE IF EXISTS Counts') \n",
    "\n",
    "cur.execute('''\n",
    "CREATE TABLE Counts (email TEXT, count INTEGER)''') \n",
    "\n",
    "fname = input('Enter file name: ')\n",
    "if (len(fname) < 1): fname = 'mbox-short.txt'\n",
    "fh = open(fname)\n",
    "for line in fh:\n",
    "    if not line.startswith('From: '): continue\n",
    "    pieces = line.split()\n",
    "    email = pieces[1]\n",
    "    cur.execute('SELECT count FROM Counts WHERE email = ? ', (email,))\n",
    "    row = cur.fetchone()\n",
    "    if row is None:\n",
    "        cur.execute('''INSERT INTO Counts (email, count)\n",
    "                VALUES (?, 1)''', (email,))\n",
    "    else:\n",
    "        cur.execute('UPDATE Counts SET count = count + 1 WHERE email = ?',\n",
    "                    (email,))\n",
    "    conn.commit() # forces everything to write on disk\n",
    "\n",
    "sqlstr = 'SELECT email, count FROM Counts ORDER BY count DESC LIMIT 10' #Descendent\n",
    "\n",
    "for row in cur.execute(sqlstr):\n",
    "    print(str(row[0]), row[1])\n",
    "\n",
    "cur.close()"
   ]
  },
  {
   "cell_type": "markdown",
   "metadata": {},
   "source": [
    "# Counting Email in a Database"
   ]
  },
  {
   "cell_type": "code",
   "execution_count": 58,
   "metadata": {},
   "outputs": [
    {
     "name": "stdout",
     "output_type": "stream",
     "text": [
      "Enter file name: mbox-1.txt\n",
      "iupui.edu\n",
      " 536\n",
      "umich.edu\n",
      " 491\n",
      "indiana.edu\n",
      " 178\n",
      "caret.cam.ac.uk\n",
      " 157\n",
      "vt.edu\n",
      " 110\n",
      "uct.ac.za\n",
      " 96\n",
      "media.berkeley.edu\n",
      " 56\n",
      "ufp.pt\n",
      " 28\n",
      "gmail.com\n",
      " 25\n",
      "et.gatech.edu\n",
      " 17\n"
     ]
    }
   ],
   "source": [
    "import sqlite3\n",
    "\n",
    "conn = sqlite3.connect('emaildb.sqlite')\n",
    "cur = conn.cursor()\n",
    "\n",
    "cur.execute('DROP TABLE IF EXISTS Counts')\n",
    "\n",
    "cur.execute('''\n",
    "CREATE TABLE Counts (org TEXT, count INTEGER)''')\n",
    "\n",
    "fname = input('Enter file name: ')\n",
    "if (len(fname) < 1): fname = 'mbox.txt'\n",
    "\n",
    "fh = open(fname)\n",
    "for line in fh:\n",
    "    if not line.startswith('From: '): continue\n",
    "    \n",
    "    pieces = line.split('@') # this is what you want\n",
    "    org = pieces[1]\n",
    "    cur.execute('SELECT count FROM Counts WHERE org = ? ', (org,))\n",
    "    row = cur.fetchone()\n",
    "    if row is None:\n",
    "       cur.execute('''INSERT INTO Counts (org, count)\n",
    "              VALUES (?, 1)''', (org,))\n",
    "    else:\n",
    "       cur.execute('UPDATE Counts SET count = count + 1 WHERE org = ?',\n",
    "                    (org,))\n",
    "conn.commit()\n",
    "\n",
    "# https://www.sqlite.org/lang_select.html\n",
    "sqlstr = 'SELECT org, count FROM Counts ORDER BY count DESC LIMIT 10'\n",
    "\n",
    "for row in cur.execute(sqlstr):\n",
    "    print(str(row[0]), row[1])\n",
    "\n",
    "cur.close()"
   ]
  }
 ],
 "metadata": {
  "kernelspec": {
   "display_name": "Python 3",
   "language": "python",
   "name": "python3"
  },
  "language_info": {
   "codemirror_mode": {
    "name": "ipython",
    "version": 3
   },
   "file_extension": ".py",
   "mimetype": "text/x-python",
   "name": "python",
   "nbconvert_exporter": "python",
   "pygments_lexer": "ipython3",
   "version": "3.7.7"
  }
 },
 "nbformat": 4,
 "nbformat_minor": 4
}
